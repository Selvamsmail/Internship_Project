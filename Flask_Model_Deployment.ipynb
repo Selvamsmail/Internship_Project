{
  "cells": [
    {
      "cell_type": "code",
      "execution_count": null,
      "metadata": {
        "colab": {
          "base_uri": "https://localhost:8080/"
        },
        "id": "ZebDMvUig-Dg",
        "outputId": "edb7101e-39a5-4b51-9600-101253182786"
      },
      "outputs": [
        {
          "output_type": "stream",
          "name": "stdout",
          "text": [
            "Looking in indexes: https://pypi.org/simple, https://us-python.pkg.dev/colab-wheels/public/simple/\n",
            "Collecting flask_ngrok\n",
            "  Downloading flask_ngrok-0.0.25-py3-none-any.whl (3.1 kB)\n",
            "Requirement already satisfied: Flask>=0.8 in /usr/local/lib/python3.10/dist-packages (from flask_ngrok) (2.2.4)\n",
            "Requirement already satisfied: requests in /usr/local/lib/python3.10/dist-packages (from flask_ngrok) (2.27.1)\n",
            "Requirement already satisfied: Werkzeug>=2.2.2 in /usr/local/lib/python3.10/dist-packages (from Flask>=0.8->flask_ngrok) (2.3.0)\n",
            "Requirement already satisfied: Jinja2>=3.0 in /usr/local/lib/python3.10/dist-packages (from Flask>=0.8->flask_ngrok) (3.1.2)\n",
            "Requirement already satisfied: itsdangerous>=2.0 in /usr/local/lib/python3.10/dist-packages (from Flask>=0.8->flask_ngrok) (2.1.2)\n",
            "Requirement already satisfied: click>=8.0 in /usr/local/lib/python3.10/dist-packages (from Flask>=0.8->flask_ngrok) (8.1.3)\n",
            "Requirement already satisfied: urllib3<1.27,>=1.21.1 in /usr/local/lib/python3.10/dist-packages (from requests->flask_ngrok) (1.26.15)\n",
            "Requirement already satisfied: certifi>=2017.4.17 in /usr/local/lib/python3.10/dist-packages (from requests->flask_ngrok) (2022.12.7)\n",
            "Requirement already satisfied: charset-normalizer~=2.0.0 in /usr/local/lib/python3.10/dist-packages (from requests->flask_ngrok) (2.0.12)\n",
            "Requirement already satisfied: idna<4,>=2.5 in /usr/local/lib/python3.10/dist-packages (from requests->flask_ngrok) (3.4)\n",
            "Requirement already satisfied: MarkupSafe>=2.0 in /usr/local/lib/python3.10/dist-packages (from Jinja2>=3.0->Flask>=0.8->flask_ngrok) (2.1.2)\n",
            "Installing collected packages: flask_ngrok\n",
            "Successfully installed flask_ngrok-0.0.25\n",
            "Looking in indexes: https://pypi.org/simple, https://us-python.pkg.dev/colab-wheels/public/simple/\n",
            "Collecting pyngrok\n",
            "  Downloading pyngrok-6.0.0.tar.gz (681 kB)\n",
            "\u001b[2K     \u001b[90m━━━━━━━━━━━━━━━━━━━━━━━━━━━━━━━━━━━━━━\u001b[0m \u001b[32m681.2/681.2 kB\u001b[0m \u001b[31m12.7 MB/s\u001b[0m eta \u001b[36m0:00:00\u001b[0m\n",
            "\u001b[?25h  Preparing metadata (setup.py) ... \u001b[?25l\u001b[?25hdone\n",
            "Requirement already satisfied: PyYAML in /usr/local/lib/python3.10/dist-packages (from pyngrok) (6.0)\n",
            "Building wheels for collected packages: pyngrok\n",
            "  Building wheel for pyngrok (setup.py) ... \u001b[?25l\u001b[?25hdone\n",
            "  Created wheel for pyngrok: filename=pyngrok-6.0.0-py3-none-any.whl size=19867 sha256=ab0e57b42e9bf3aff3cc73bd3d17072ec93768eed788d5c7745e4a1c846c0309\n",
            "  Stored in directory: /root/.cache/pip/wheels/5c/42/78/0c3d438d7f5730451a25f7ac6cbf4391759d22a67576ed7c2c\n",
            "Successfully built pyngrok\n",
            "Installing collected packages: pyngrok\n",
            "Successfully installed pyngrok-6.0.0\n",
            "Authtoken saved to configuration file: /root/.ngrok2/ngrok.yml\n"
          ]
        }
      ],
      "source": [
        "!pip install flask_ngrok\n",
        "!pip install pyngrok\n",
        "!ngrok authtoken 2PeRoZuDhQBsOnJZ5KAEdQB8jlD_6tg7SwMUAMvzAFYeXqdNZ\n",
        "from flask_ngrok import run_with_ngrok\n",
        "from flask import Flask, request, jsonify, render_template\n",
        "import pickle\n",
        "import gdown \n",
        "import re"
      ]
    },
    {
      "cell_type": "code",
      "execution_count": null,
      "metadata": {
        "colab": {
          "base_uri": "https://localhost:8080/"
        },
        "id": "CCb9m6BE1ZCq",
        "outputId": "82954908-bbaf-49cf-f5d9-e4e1ef814630"
      },
      "outputs": [
        {
          "output_type": "stream",
          "name": "stderr",
          "text": [
            "[nltk_data] Downloading package stopwords to /root/nltk_data...\n",
            "[nltk_data]   Unzipping corpora/stopwords.zip.\n",
            "[nltk_data] Downloading package omw-1.4 to /root/nltk_data...\n",
            "[nltk_data] Downloading package punkt to /root/nltk_data...\n",
            "[nltk_data]   Unzipping tokenizers/punkt.zip.\n",
            "[nltk_data] Downloading package wordnet to /root/nltk_data...\n",
            "[nltk_data] Downloading package averaged_perceptron_tagger to\n",
            "[nltk_data]     /root/nltk_data...\n",
            "[nltk_data]   Unzipping taggers/averaged_perceptron_tagger.zip.\n"
          ]
        },
        {
          "output_type": "execute_result",
          "data": {
            "text/plain": [
              "True"
            ]
          },
          "metadata": {},
          "execution_count": 2
        }
      ],
      "source": [
        "import pandas as pd\n",
        "import numpy as np\n",
        "import matplotlib.pyplot as plt\n",
        "import seaborn as sns\n",
        "import nltk\n",
        "from wordcloud import WordCloud\n",
        "from nltk.stem import WordNetLemmatizer\n",
        "from nltk.corpus import wordnet\n",
        "from nltk.corpus import stopwords\n",
        "from nltk import word_tokenize\n",
        "from sklearn.feature_extraction.text import TfidfVectorizer\n",
        "from sklearn.model_selection import train_test_split\n",
        "nltk.download('stopwords')\n",
        "stop_words = stopwords.words('english')\n",
        "nltk.download('omw-1.4')\n",
        "nltk.download('punkt')\n",
        "nltk.download('wordnet')\n",
        "nltk.download('averaged_perceptron_tagger')"
      ]
    },
    {
      "cell_type": "code",
      "execution_count": null,
      "metadata": {
        "colab": {
          "base_uri": "https://localhost:8080/",
          "height": 474
        },
        "id": "HqKRv-VVfsSA",
        "outputId": "d6614049-98fa-463e-ea7d-e852a2530848"
      },
      "outputs": [
        {
          "output_type": "stream",
          "name": "stderr",
          "text": [
            "Downloading...\n",
            "From: https://drive.google.com/uc?id=1liwwhm01z8NZw9vXTUBz0gL_t98Rrjgm\n",
            "To: /content/NN_model.pkl\n",
            "100%|██████████| 2.45M/2.45M [00:00<00:00, 115MB/s]\n",
            "Downloading...\n",
            "From: https://drive.google.com/uc?id=16cOGEvt7L_a0E6S3uoGYA5Kh0_lOZUY3\n",
            "To: /content/title_vectorizer.pkl\n",
            "100%|██████████| 85.7k/85.7k [00:00<00:00, 34.7MB/s]\n",
            "Downloading...\n",
            "From: https://drive.google.com/uc?id=14M5Lf716q5UtuojgJY2zvYRqP92gLeGg\n",
            "To: /content/body_vectorizer.pkl\n",
            "100%|██████████| 7.00M/7.00M [00:00<00:00, 54.3MB/s]\n",
            "Downloading...\n",
            "From: https://drive.google.com/uc?id=1vgn9j9wnZLZjX_giwlvcaFT948LfoZWJ\n",
            "To: /content/index.html\n",
            "100%|██████████| 464/464 [00:00<00:00, 1.54MB/s]\n",
            "Downloading...\n",
            "From: https://drive.google.com/uc?id=1i11XE4mctBXo3vduzaepaRriXr7F7qQs\n",
            "To: /content/result.html\n",
            "100%|██████████| 323/323 [00:00<00:00, 1.09MB/s]\n",
            "Downloading...\n",
            "From: https://drive.google.com/uc?id=1QJbmftsUGKGte7MRV0UM0cYLErzdtGEk\n",
            "To: /content/columnsdf.csv\n",
            "100%|██████████| 678k/678k [00:00<00:00, 29.2MB/s]\n"
          ]
        },
        {
          "output_type": "execute_result",
          "data": {
            "text/plain": [
              "'columnsdf.csv'"
            ],
            "application/vnd.google.colaboratory.intrinsic+json": {
              "type": "string"
            }
          },
          "metadata": {},
          "execution_count": 3
        }
      ],
      "source": [
        "gdown.download(id = '1liwwhm01z8NZw9vXTUBz0gL_t98Rrjgm')\n",
        "gdown.download(id = '16cOGEvt7L_a0E6S3uoGYA5Kh0_lOZUY3')\n",
        "gdown.download(id = '14M5Lf716q5UtuojgJY2zvYRqP92gLeGg')\n",
        "gdown.download(id = '1vgn9j9wnZLZjX_giwlvcaFT948LfoZWJ')\n",
        "gdown.download(id = '1i11XE4mctBXo3vduzaepaRriXr7F7qQs')\n",
        "gdown.download(id = '1QJbmftsUGKGte7MRV0UM0cYLErzdtGEk')"
      ]
    },
    {
      "cell_type": "markdown",
      "metadata": {
        "id": "EWHvohgu4puI"
      },
      "source": [
        "### lematizer"
      ]
    },
    {
      "cell_type": "code",
      "execution_count": null,
      "metadata": {
        "id": "e3Iwq7lw4o-k"
      },
      "outputs": [],
      "source": [
        "lemmatizer = WordNetLemmatizer()\n",
        "\n",
        "def lemmatize_sentence(sentence):\n",
        "    nltk_tagged = nltk.pos_tag(nltk.word_tokenize(sentence))  \n",
        "\n",
        "    lemmatized_sentence = []\n",
        "    \n",
        "    for word, tag in nltk_tagged:\n",
        "        if tag is None:\n",
        "\n",
        "            lemmatized_sentence.append(word)\n",
        "        else:\n",
        "          try:\n",
        "            lemmatized_sentence.append(lemmatizer.lemmatize(word, tag))\n",
        "          except:\n",
        "            lemmatized_sentence.append(word)\n",
        "\n",
        "    return \" \".join(lemmatized_sentence)"
      ]
    },
    {
      "cell_type": "markdown",
      "metadata": {
        "id": "fzbaRnpB4vdE"
      },
      "source": [
        "### stopword remover"
      ]
    },
    {
      "cell_type": "code",
      "execution_count": null,
      "metadata": {
        "id": "AsICclsc5S7z"
      },
      "outputs": [],
      "source": [
        "def remove_stopwords(rev):\n",
        "\n",
        "    review_tokenized = word_tokenize(rev)\n",
        "    rev_new = \" \".join([i for i in review_tokenized  if i not in stop_words])\n",
        "    return rev_new"
      ]
    },
    {
      "cell_type": "markdown",
      "metadata": {
        "id": "l3AcRmsP5Wtw"
      },
      "source": [
        "# app"
      ]
    },
    {
      "cell_type": "code",
      "execution_count": null,
      "metadata": {
        "id": "8_tnvxFkgimP"
      },
      "outputs": [],
      "source": [
        "with open('/content/NN_model.pkl', 'rb') as f:\n",
        "    model = pickle.load(f)\n",
        "\n",
        "with open('/content/title_vectorizer.pkl', 'rb') as f:\n",
        "    title_vectorizer = pickle.load(f)\n",
        "\n",
        "with open('/content/body_vectorizer.pkl', 'rb') as f:\n",
        "    body_vectorizer = pickle.load(f)"
      ]
    },
    {
      "cell_type": "code",
      "execution_count": null,
      "metadata": {
        "id": "XB2Ui6MmguxH"
      },
      "outputs": [],
      "source": [
        "app = Flask('Real_or_Fake_News', template_folder='/content/')\n",
        "run_with_ngrok(app)"
      ]
    },
    {
      "cell_type": "code",
      "execution_count": null,
      "metadata": {
        "colab": {
          "background_save": true,
          "base_uri": "https://localhost:8080/"
        },
        "id": "9n3XdyEa_5gM",
        "outputId": "ab004145-93f8-443f-d904-2f9165fb1ad6"
      },
      "outputs": [
        {
          "output_type": "stream",
          "name": "stdout",
          "text": [
            " * Serving Flask app 'Real_or_Fake_News'\n",
            " * Debug mode: off\n"
          ]
        },
        {
          "output_type": "stream",
          "name": "stderr",
          "text": [
            "INFO:werkzeug:\u001b[31m\u001b[1mWARNING: This is a development server. Do not use it in a production deployment. Use a production WSGI server instead.\u001b[0m\n",
            " * Running on http://127.0.0.1:5000\n",
            "INFO:werkzeug:\u001b[33mPress CTRL+C to quit\u001b[0m\n"
          ]
        },
        {
          "output_type": "stream",
          "name": "stdout",
          "text": [
            " * Running on http://652c-35-233-198-21.ngrok-free.app\n",
            " * Traffic stats available on http://127.0.0.1:4040\n"
          ]
        },
        {
          "output_type": "stream",
          "name": "stderr",
          "text": [
            "INFO:werkzeug:127.0.0.1 - - [14/May/2023 05:45:52] \"GET / HTTP/1.1\" 200 -\n",
            "INFO:werkzeug:127.0.0.1 - - [14/May/2023 05:45:53] \"\u001b[33mGET /favicon.ico HTTP/1.1\u001b[0m\" 404 -\n",
            "<ipython-input-8-616a250b8b08>:9: FutureWarning: The frame.append method is deprecated and will be removed from pandas in a future version. Use pandas.concat instead.\n",
            "  df = df.append(new_row, ignore_index=True)\n",
            "<ipython-input-8-616a250b8b08>:12: FutureWarning: The default value of regex will change from True to False in a future version.\n",
            "  df['Title'] = df['Title'].str.replace(\"[^a-zA-Z0-9]\", \" \")\n",
            "<ipython-input-8-616a250b8b08>:14: FutureWarning: The default value of regex will change from True to False in a future version.\n",
            "  df['Body'] = df['Body'].str.replace(\"[^a-zA-Z0-9]\", \" \")\n"
          ]
        },
        {
          "output_type": "stream",
          "name": "stdout",
          "text": [
            "1/1 [==============================] - 0s 178ms/step\n"
          ]
        },
        {
          "output_type": "stream",
          "name": "stderr",
          "text": [
            "INFO:werkzeug:127.0.0.1 - - [14/May/2023 05:46:19] \"POST / HTTP/1.1\" 200 -\n",
            "INFO:werkzeug:127.0.0.1 - - [14/May/2023 05:46:25] \"GET / HTTP/1.1\" 200 -\n",
            "INFO:werkzeug:127.0.0.1 - - [14/May/2023 05:46:52] \"GET / HTTP/1.1\" 200 -\n",
            "INFO:werkzeug:127.0.0.1 - - [14/May/2023 05:46:53] \"\u001b[33mGET /favicon.ico HTTP/1.1\u001b[0m\" 404 -\n",
            "<ipython-input-8-616a250b8b08>:9: FutureWarning: The frame.append method is deprecated and will be removed from pandas in a future version. Use pandas.concat instead.\n",
            "  df = df.append(new_row, ignore_index=True)\n",
            "<ipython-input-8-616a250b8b08>:12: FutureWarning: The default value of regex will change from True to False in a future version.\n",
            "  df['Title'] = df['Title'].str.replace(\"[^a-zA-Z0-9]\", \" \")\n",
            "<ipython-input-8-616a250b8b08>:14: FutureWarning: The default value of regex will change from True to False in a future version.\n",
            "  df['Body'] = df['Body'].str.replace(\"[^a-zA-Z0-9]\", \" \")\n"
          ]
        },
        {
          "output_type": "stream",
          "name": "stdout",
          "text": [
            "1/1 [==============================] - 0s 25ms/step\n"
          ]
        },
        {
          "output_type": "stream",
          "name": "stderr",
          "text": [
            "INFO:werkzeug:127.0.0.1 - - [14/May/2023 05:47:59] \"POST / HTTP/1.1\" 200 -\n",
            "INFO:werkzeug:127.0.0.1 - - [14/May/2023 05:48:08] \"GET / HTTP/1.1\" 200 -\n",
            "<ipython-input-8-616a250b8b08>:9: FutureWarning: The frame.append method is deprecated and will be removed from pandas in a future version. Use pandas.concat instead.\n",
            "  df = df.append(new_row, ignore_index=True)\n",
            "<ipython-input-8-616a250b8b08>:12: FutureWarning: The default value of regex will change from True to False in a future version.\n",
            "  df['Title'] = df['Title'].str.replace(\"[^a-zA-Z0-9]\", \" \")\n",
            "<ipython-input-8-616a250b8b08>:14: FutureWarning: The default value of regex will change from True to False in a future version.\n",
            "  df['Body'] = df['Body'].str.replace(\"[^a-zA-Z0-9]\", \" \")\n"
          ]
        },
        {
          "output_type": "stream",
          "name": "stdout",
          "text": [
            "1/1 [==============================] - 0s 37ms/step\n"
          ]
        },
        {
          "output_type": "stream",
          "name": "stderr",
          "text": [
            "INFO:werkzeug:127.0.0.1 - - [14/May/2023 05:48:24] \"POST / HTTP/1.1\" 200 -\n",
            "INFO:werkzeug:127.0.0.1 - - [14/May/2023 05:48:29] \"GET / HTTP/1.1\" 200 -\n",
            "<ipython-input-8-616a250b8b08>:9: FutureWarning: The frame.append method is deprecated and will be removed from pandas in a future version. Use pandas.concat instead.\n",
            "  df = df.append(new_row, ignore_index=True)\n",
            "<ipython-input-8-616a250b8b08>:12: FutureWarning: The default value of regex will change from True to False in a future version.\n",
            "  df['Title'] = df['Title'].str.replace(\"[^a-zA-Z0-9]\", \" \")\n",
            "<ipython-input-8-616a250b8b08>:14: FutureWarning: The default value of regex will change from True to False in a future version.\n",
            "  df['Body'] = df['Body'].str.replace(\"[^a-zA-Z0-9]\", \" \")\n",
            "<ipython-input-8-616a250b8b08>:9: FutureWarning: The frame.append method is deprecated and will be removed from pandas in a future version. Use pandas.concat instead.\n",
            "  df = df.append(new_row, ignore_index=True)\n",
            "<ipython-input-8-616a250b8b08>:12: FutureWarning: The default value of regex will change from True to False in a future version.\n",
            "  df['Title'] = df['Title'].str.replace(\"[^a-zA-Z0-9]\", \" \")\n",
            "<ipython-input-8-616a250b8b08>:14: FutureWarning: The default value of regex will change from True to False in a future version.\n",
            "  df['Body'] = df['Body'].str.replace(\"[^a-zA-Z0-9]\", \" \")\n"
          ]
        },
        {
          "output_type": "stream",
          "name": "stdout",
          "text": [
            "1/1 [==============================] - 0s 88ms/step\n"
          ]
        },
        {
          "output_type": "stream",
          "name": "stderr",
          "text": [
            "INFO:werkzeug:127.0.0.1 - - [14/May/2023 05:48:39] \"POST / HTTP/1.1\" 200 -\n"
          ]
        },
        {
          "output_type": "stream",
          "name": "stdout",
          "text": [
            "1/1 [==============================] - 0s 25ms/step\n"
          ]
        },
        {
          "output_type": "stream",
          "name": "stderr",
          "text": [
            "INFO:werkzeug:127.0.0.1 - - [14/May/2023 05:48:39] \"POST / HTTP/1.1\" 200 -\n",
            "INFO:werkzeug:127.0.0.1 - - [14/May/2023 05:48:43] \"GET / HTTP/1.1\" 200 -\n",
            "<ipython-input-8-616a250b8b08>:9: FutureWarning: The frame.append method is deprecated and will be removed from pandas in a future version. Use pandas.concat instead.\n",
            "  df = df.append(new_row, ignore_index=True)\n",
            "<ipython-input-8-616a250b8b08>:12: FutureWarning: The default value of regex will change from True to False in a future version.\n",
            "  df['Title'] = df['Title'].str.replace(\"[^a-zA-Z0-9]\", \" \")\n",
            "<ipython-input-8-616a250b8b08>:14: FutureWarning: The default value of regex will change from True to False in a future version.\n",
            "  df['Body'] = df['Body'].str.replace(\"[^a-zA-Z0-9]\", \" \")\n"
          ]
        },
        {
          "output_type": "stream",
          "name": "stdout",
          "text": [
            "1/1 [==============================] - 0s 23ms/step\n"
          ]
        },
        {
          "output_type": "stream",
          "name": "stderr",
          "text": [
            "INFO:werkzeug:127.0.0.1 - - [14/May/2023 05:48:58] \"POST / HTTP/1.1\" 200 -\n",
            "INFO:werkzeug:127.0.0.1 - - [14/May/2023 05:49:03] \"GET / HTTP/1.1\" 200 -\n",
            "<ipython-input-8-616a250b8b08>:9: FutureWarning: The frame.append method is deprecated and will be removed from pandas in a future version. Use pandas.concat instead.\n",
            "  df = df.append(new_row, ignore_index=True)\n",
            "<ipython-input-8-616a250b8b08>:12: FutureWarning: The default value of regex will change from True to False in a future version.\n",
            "  df['Title'] = df['Title'].str.replace(\"[^a-zA-Z0-9]\", \" \")\n",
            "<ipython-input-8-616a250b8b08>:14: FutureWarning: The default value of regex will change from True to False in a future version.\n",
            "  df['Body'] = df['Body'].str.replace(\"[^a-zA-Z0-9]\", \" \")\n"
          ]
        },
        {
          "output_type": "stream",
          "name": "stdout",
          "text": [
            "1/1 [==============================] - 0s 27ms/step\n"
          ]
        },
        {
          "output_type": "stream",
          "name": "stderr",
          "text": [
            "INFO:werkzeug:127.0.0.1 - - [14/May/2023 05:49:10] \"POST / HTTP/1.1\" 200 -\n",
            "INFO:werkzeug:127.0.0.1 - - [14/May/2023 05:49:14] \"GET / HTTP/1.1\" 200 -\n",
            "<ipython-input-8-616a250b8b08>:9: FutureWarning: The frame.append method is deprecated and will be removed from pandas in a future version. Use pandas.concat instead.\n",
            "  df = df.append(new_row, ignore_index=True)\n",
            "<ipython-input-8-616a250b8b08>:12: FutureWarning: The default value of regex will change from True to False in a future version.\n",
            "  df['Title'] = df['Title'].str.replace(\"[^a-zA-Z0-9]\", \" \")\n",
            "<ipython-input-8-616a250b8b08>:14: FutureWarning: The default value of regex will change from True to False in a future version.\n",
            "  df['Body'] = df['Body'].str.replace(\"[^a-zA-Z0-9]\", \" \")\n"
          ]
        },
        {
          "output_type": "stream",
          "name": "stdout",
          "text": [
            "1/1 [==============================] - 0s 26ms/step\n"
          ]
        },
        {
          "output_type": "stream",
          "name": "stderr",
          "text": [
            "INFO:werkzeug:127.0.0.1 - - [14/May/2023 05:49:22] \"POST / HTTP/1.1\" 200 -\n",
            "INFO:werkzeug:127.0.0.1 - - [14/May/2023 05:49:24] \"GET / HTTP/1.1\" 200 -\n",
            "<ipython-input-8-616a250b8b08>:9: FutureWarning: The frame.append method is deprecated and will be removed from pandas in a future version. Use pandas.concat instead.\n",
            "  df = df.append(new_row, ignore_index=True)\n",
            "<ipython-input-8-616a250b8b08>:12: FutureWarning: The default value of regex will change from True to False in a future version.\n",
            "  df['Title'] = df['Title'].str.replace(\"[^a-zA-Z0-9]\", \" \")\n",
            "<ipython-input-8-616a250b8b08>:14: FutureWarning: The default value of regex will change from True to False in a future version.\n",
            "  df['Body'] = df['Body'].str.replace(\"[^a-zA-Z0-9]\", \" \")\n"
          ]
        },
        {
          "output_type": "stream",
          "name": "stdout",
          "text": [
            "1/1 [==============================] - 0s 26ms/step\n"
          ]
        },
        {
          "output_type": "stream",
          "name": "stderr",
          "text": [
            "INFO:werkzeug:127.0.0.1 - - [14/May/2023 05:49:35] \"POST / HTTP/1.1\" 200 -\n",
            "INFO:werkzeug:127.0.0.1 - - [14/May/2023 05:49:37] \"GET / HTTP/1.1\" 200 -\n",
            "<ipython-input-8-616a250b8b08>:9: FutureWarning: The frame.append method is deprecated and will be removed from pandas in a future version. Use pandas.concat instead.\n",
            "  df = df.append(new_row, ignore_index=True)\n",
            "<ipython-input-8-616a250b8b08>:12: FutureWarning: The default value of regex will change from True to False in a future version.\n",
            "  df['Title'] = df['Title'].str.replace(\"[^a-zA-Z0-9]\", \" \")\n",
            "<ipython-input-8-616a250b8b08>:14: FutureWarning: The default value of regex will change from True to False in a future version.\n",
            "  df['Body'] = df['Body'].str.replace(\"[^a-zA-Z0-9]\", \" \")\n"
          ]
        },
        {
          "output_type": "stream",
          "name": "stdout",
          "text": [
            "1/1 [==============================] - 0s 29ms/step\n"
          ]
        },
        {
          "output_type": "stream",
          "name": "stderr",
          "text": [
            "INFO:werkzeug:127.0.0.1 - - [14/May/2023 05:49:57] \"POST / HTTP/1.1\" 200 -\n",
            "INFO:werkzeug:127.0.0.1 - - [14/May/2023 05:50:00] \"GET / HTTP/1.1\" 200 -\n",
            "<ipython-input-8-616a250b8b08>:9: FutureWarning: The frame.append method is deprecated and will be removed from pandas in a future version. Use pandas.concat instead.\n",
            "  df = df.append(new_row, ignore_index=True)\n",
            "<ipython-input-8-616a250b8b08>:12: FutureWarning: The default value of regex will change from True to False in a future version.\n",
            "  df['Title'] = df['Title'].str.replace(\"[^a-zA-Z0-9]\", \" \")\n",
            "<ipython-input-8-616a250b8b08>:14: FutureWarning: The default value of regex will change from True to False in a future version.\n",
            "  df['Body'] = df['Body'].str.replace(\"[^a-zA-Z0-9]\", \" \")\n"
          ]
        },
        {
          "output_type": "stream",
          "name": "stdout",
          "text": [
            "1/1 [==============================] - 0s 28ms/step\n"
          ]
        },
        {
          "output_type": "stream",
          "name": "stderr",
          "text": [
            "INFO:werkzeug:127.0.0.1 - - [14/May/2023 05:50:11] \"POST / HTTP/1.1\" 200 -\n",
            "INFO:werkzeug:127.0.0.1 - - [14/May/2023 05:50:14] \"GET / HTTP/1.1\" 200 -\n",
            "<ipython-input-8-616a250b8b08>:9: FutureWarning: The frame.append method is deprecated and will be removed from pandas in a future version. Use pandas.concat instead.\n",
            "  df = df.append(new_row, ignore_index=True)\n",
            "<ipython-input-8-616a250b8b08>:12: FutureWarning: The default value of regex will change from True to False in a future version.\n",
            "  df['Title'] = df['Title'].str.replace(\"[^a-zA-Z0-9]\", \" \")\n",
            "<ipython-input-8-616a250b8b08>:14: FutureWarning: The default value of regex will change from True to False in a future version.\n",
            "  df['Body'] = df['Body'].str.replace(\"[^a-zA-Z0-9]\", \" \")\n"
          ]
        },
        {
          "output_type": "stream",
          "name": "stdout",
          "text": [
            "1/1 [==============================] - 0s 25ms/step\n"
          ]
        },
        {
          "output_type": "stream",
          "name": "stderr",
          "text": [
            "INFO:werkzeug:127.0.0.1 - - [14/May/2023 05:50:32] \"POST / HTTP/1.1\" 200 -\n",
            "INFO:werkzeug:127.0.0.1 - - [14/May/2023 05:50:38] \"GET / HTTP/1.1\" 200 -\n",
            "INFO:werkzeug:127.0.0.1 - - [14/May/2023 05:57:27] \"GET / HTTP/1.1\" 200 -\n",
            "INFO:werkzeug:127.0.0.1 - - [14/May/2023 06:28:05] \"GET / HTTP/1.1\" 200 -\n",
            "INFO:werkzeug:127.0.0.1 - - [14/May/2023 07:11:31] \"GET / HTTP/1.1\" 200 -\n",
            "INFO:werkzeug:127.0.0.1 - - [14/May/2023 07:11:32] \"\u001b[33mGET /favicon.ico HTTP/1.1\u001b[0m\" 404 -\n",
            "<ipython-input-8-616a250b8b08>:9: FutureWarning: The frame.append method is deprecated and will be removed from pandas in a future version. Use pandas.concat instead.\n",
            "  df = df.append(new_row, ignore_index=True)\n",
            "<ipython-input-8-616a250b8b08>:12: FutureWarning: The default value of regex will change from True to False in a future version.\n",
            "  df['Title'] = df['Title'].str.replace(\"[^a-zA-Z0-9]\", \" \")\n",
            "<ipython-input-8-616a250b8b08>:14: FutureWarning: The default value of regex will change from True to False in a future version.\n",
            "  df['Body'] = df['Body'].str.replace(\"[^a-zA-Z0-9]\", \" \")\n"
          ]
        },
        {
          "output_type": "stream",
          "name": "stdout",
          "text": [
            "1/1 [==============================] - 0s 27ms/step\n"
          ]
        },
        {
          "output_type": "stream",
          "name": "stderr",
          "text": [
            "INFO:werkzeug:127.0.0.1 - - [14/May/2023 07:12:20] \"POST / HTTP/1.1\" 200 -\n",
            "INFO:werkzeug:127.0.0.1 - - [14/May/2023 07:12:26] \"GET / HTTP/1.1\" 200 -\n",
            "<ipython-input-8-616a250b8b08>:9: FutureWarning: The frame.append method is deprecated and will be removed from pandas in a future version. Use pandas.concat instead.\n",
            "  df = df.append(new_row, ignore_index=True)\n",
            "<ipython-input-8-616a250b8b08>:12: FutureWarning: The default value of regex will change from True to False in a future version.\n",
            "  df['Title'] = df['Title'].str.replace(\"[^a-zA-Z0-9]\", \" \")\n",
            "<ipython-input-8-616a250b8b08>:14: FutureWarning: The default value of regex will change from True to False in a future version.\n",
            "  df['Body'] = df['Body'].str.replace(\"[^a-zA-Z0-9]\", \" \")\n"
          ]
        },
        {
          "output_type": "stream",
          "name": "stdout",
          "text": [
            "1/1 [==============================] - 0s 25ms/step\n"
          ]
        },
        {
          "output_type": "stream",
          "name": "stderr",
          "text": [
            "INFO:werkzeug:127.0.0.1 - - [14/May/2023 07:12:50] \"POST / HTTP/1.1\" 200 -\n",
            "INFO:werkzeug:127.0.0.1 - - [14/May/2023 07:13:23] \"GET / HTTP/1.1\" 200 -\n",
            "<ipython-input-8-616a250b8b08>:9: FutureWarning: The frame.append method is deprecated and will be removed from pandas in a future version. Use pandas.concat instead.\n",
            "  df = df.append(new_row, ignore_index=True)\n",
            "<ipython-input-8-616a250b8b08>:12: FutureWarning: The default value of regex will change from True to False in a future version.\n",
            "  df['Title'] = df['Title'].str.replace(\"[^a-zA-Z0-9]\", \" \")\n",
            "<ipython-input-8-616a250b8b08>:14: FutureWarning: The default value of regex will change from True to False in a future version.\n",
            "  df['Body'] = df['Body'].str.replace(\"[^a-zA-Z0-9]\", \" \")\n"
          ]
        },
        {
          "output_type": "stream",
          "name": "stdout",
          "text": [
            "1/1 [==============================] - 0s 22ms/step\n"
          ]
        },
        {
          "output_type": "stream",
          "name": "stderr",
          "text": [
            "INFO:werkzeug:127.0.0.1 - - [14/May/2023 07:14:20] \"POST / HTTP/1.1\" 200 -\n",
            "INFO:werkzeug:127.0.0.1 - - [14/May/2023 07:14:23] \"GET / HTTP/1.1\" 200 -\n",
            "<ipython-input-8-616a250b8b08>:9: FutureWarning: The frame.append method is deprecated and will be removed from pandas in a future version. Use pandas.concat instead.\n",
            "  df = df.append(new_row, ignore_index=True)\n",
            "<ipython-input-8-616a250b8b08>:12: FutureWarning: The default value of regex will change from True to False in a future version.\n",
            "  df['Title'] = df['Title'].str.replace(\"[^a-zA-Z0-9]\", \" \")\n",
            "<ipython-input-8-616a250b8b08>:14: FutureWarning: The default value of regex will change from True to False in a future version.\n",
            "  df['Body'] = df['Body'].str.replace(\"[^a-zA-Z0-9]\", \" \")\n"
          ]
        },
        {
          "output_type": "stream",
          "name": "stdout",
          "text": [
            "1/1 [==============================] - 0s 39ms/step\n"
          ]
        },
        {
          "output_type": "stream",
          "name": "stderr",
          "text": [
            "INFO:werkzeug:127.0.0.1 - - [14/May/2023 07:14:50] \"POST / HTTP/1.1\" 200 -\n",
            "INFO:werkzeug:127.0.0.1 - - [14/May/2023 07:14:54] \"GET / HTTP/1.1\" 200 -\n",
            "INFO:werkzeug:127.0.0.1 - - [14/May/2023 07:20:16] \"\u001b[33mGET /favicon.ico HTTP/1.1\u001b[0m\" 404 -\n",
            "INFO:werkzeug:127.0.0.1 - - [14/May/2023 07:34:55] \"GET / HTTP/1.1\" 200 -\n",
            "INFO:werkzeug:127.0.0.1 - - [14/May/2023 07:35:17] \"GET / HTTP/1.1\" 200 -\n",
            "<ipython-input-8-616a250b8b08>:9: FutureWarning: The frame.append method is deprecated and will be removed from pandas in a future version. Use pandas.concat instead.\n",
            "  df = df.append(new_row, ignore_index=True)\n",
            "<ipython-input-8-616a250b8b08>:12: FutureWarning: The default value of regex will change from True to False in a future version.\n",
            "  df['Title'] = df['Title'].str.replace(\"[^a-zA-Z0-9]\", \" \")\n",
            "<ipython-input-8-616a250b8b08>:14: FutureWarning: The default value of regex will change from True to False in a future version.\n",
            "  df['Body'] = df['Body'].str.replace(\"[^a-zA-Z0-9]\", \" \")\n"
          ]
        },
        {
          "output_type": "stream",
          "name": "stdout",
          "text": [
            "1/1 [==============================] - 0s 22ms/step\n"
          ]
        },
        {
          "output_type": "stream",
          "name": "stderr",
          "text": [
            "INFO:werkzeug:127.0.0.1 - - [14/May/2023 07:35:27] \"POST / HTTP/1.1\" 200 -\n",
            "INFO:werkzeug:127.0.0.1 - - [14/May/2023 07:35:35] \"GET / HTTP/1.1\" 200 -\n",
            "<ipython-input-8-616a250b8b08>:9: FutureWarning: The frame.append method is deprecated and will be removed from pandas in a future version. Use pandas.concat instead.\n",
            "  df = df.append(new_row, ignore_index=True)\n",
            "<ipython-input-8-616a250b8b08>:12: FutureWarning: The default value of regex will change from True to False in a future version.\n",
            "  df['Title'] = df['Title'].str.replace(\"[^a-zA-Z0-9]\", \" \")\n",
            "<ipython-input-8-616a250b8b08>:14: FutureWarning: The default value of regex will change from True to False in a future version.\n",
            "  df['Body'] = df['Body'].str.replace(\"[^a-zA-Z0-9]\", \" \")\n"
          ]
        },
        {
          "output_type": "stream",
          "name": "stdout",
          "text": [
            "1/1 [==============================] - 0s 25ms/step\n"
          ]
        },
        {
          "output_type": "stream",
          "name": "stderr",
          "text": [
            "INFO:werkzeug:127.0.0.1 - - [14/May/2023 07:36:39] \"POST / HTTP/1.1\" 200 -\n",
            "INFO:werkzeug:127.0.0.1 - - [14/May/2023 07:37:28] \"GET / HTTP/1.1\" 200 -\n",
            "<ipython-input-8-616a250b8b08>:9: FutureWarning: The frame.append method is deprecated and will be removed from pandas in a future version. Use pandas.concat instead.\n",
            "  df = df.append(new_row, ignore_index=True)\n",
            "<ipython-input-8-616a250b8b08>:12: FutureWarning: The default value of regex will change from True to False in a future version.\n",
            "  df['Title'] = df['Title'].str.replace(\"[^a-zA-Z0-9]\", \" \")\n",
            "<ipython-input-8-616a250b8b08>:14: FutureWarning: The default value of regex will change from True to False in a future version.\n",
            "  df['Body'] = df['Body'].str.replace(\"[^a-zA-Z0-9]\", \" \")\n"
          ]
        },
        {
          "output_type": "stream",
          "name": "stdout",
          "text": [
            "1/1 [==============================] - 0s 22ms/step\n"
          ]
        },
        {
          "output_type": "stream",
          "name": "stderr",
          "text": [
            "INFO:werkzeug:127.0.0.1 - - [14/May/2023 07:37:38] \"POST / HTTP/1.1\" 200 -\n",
            "INFO:werkzeug:127.0.0.1 - - [14/May/2023 07:37:50] \"GET / HTTP/1.1\" 200 -\n",
            "<ipython-input-8-616a250b8b08>:9: FutureWarning: The frame.append method is deprecated and will be removed from pandas in a future version. Use pandas.concat instead.\n",
            "  df = df.append(new_row, ignore_index=True)\n",
            "<ipython-input-8-616a250b8b08>:12: FutureWarning: The default value of regex will change from True to False in a future version.\n",
            "  df['Title'] = df['Title'].str.replace(\"[^a-zA-Z0-9]\", \" \")\n",
            "<ipython-input-8-616a250b8b08>:14: FutureWarning: The default value of regex will change from True to False in a future version.\n",
            "  df['Body'] = df['Body'].str.replace(\"[^a-zA-Z0-9]\", \" \")\n"
          ]
        },
        {
          "output_type": "stream",
          "name": "stdout",
          "text": [
            "1/1 [==============================] - 0s 26ms/step\n"
          ]
        },
        {
          "output_type": "stream",
          "name": "stderr",
          "text": [
            "INFO:werkzeug:127.0.0.1 - - [14/May/2023 08:06:15] \"POST / HTTP/1.1\" 200 -\n",
            "INFO:werkzeug:127.0.0.1 - - [14/May/2023 08:06:17] \"GET / HTTP/1.1\" 200 -\n",
            "<ipython-input-8-616a250b8b08>:9: FutureWarning: The frame.append method is deprecated and will be removed from pandas in a future version. Use pandas.concat instead.\n",
            "  df = df.append(new_row, ignore_index=True)\n",
            "<ipython-input-8-616a250b8b08>:12: FutureWarning: The default value of regex will change from True to False in a future version.\n",
            "  df['Title'] = df['Title'].str.replace(\"[^a-zA-Z0-9]\", \" \")\n",
            "<ipython-input-8-616a250b8b08>:14: FutureWarning: The default value of regex will change from True to False in a future version.\n",
            "  df['Body'] = df['Body'].str.replace(\"[^a-zA-Z0-9]\", \" \")\n"
          ]
        },
        {
          "output_type": "stream",
          "name": "stdout",
          "text": [
            "1/1 [==============================] - 0s 23ms/step\n"
          ]
        },
        {
          "output_type": "stream",
          "name": "stderr",
          "text": [
            "INFO:werkzeug:127.0.0.1 - - [14/May/2023 08:06:48] \"POST / HTTP/1.1\" 200 -\n",
            "INFO:werkzeug:127.0.0.1 - - [14/May/2023 08:31:38] \"GET / HTTP/1.1\" 200 -\n",
            "INFO:werkzeug:127.0.0.1 - - [14/May/2023 08:31:39] \"\u001b[33mGET /favicon.ico HTTP/1.1\u001b[0m\" 404 -\n",
            "<ipython-input-8-616a250b8b08>:9: FutureWarning: The frame.append method is deprecated and will be removed from pandas in a future version. Use pandas.concat instead.\n",
            "  df = df.append(new_row, ignore_index=True)\n",
            "<ipython-input-8-616a250b8b08>:12: FutureWarning: The default value of regex will change from True to False in a future version.\n",
            "  df['Title'] = df['Title'].str.replace(\"[^a-zA-Z0-9]\", \" \")\n",
            "<ipython-input-8-616a250b8b08>:14: FutureWarning: The default value of regex will change from True to False in a future version.\n",
            "  df['Body'] = df['Body'].str.replace(\"[^a-zA-Z0-9]\", \" \")\n",
            "<ipython-input-8-616a250b8b08>:9: FutureWarning: The frame.append method is deprecated and will be removed from pandas in a future version. Use pandas.concat instead.\n",
            "  df = df.append(new_row, ignore_index=True)\n",
            "<ipython-input-8-616a250b8b08>:12: FutureWarning: The default value of regex will change from True to False in a future version.\n",
            "  df['Title'] = df['Title'].str.replace(\"[^a-zA-Z0-9]\", \" \")\n",
            "<ipython-input-8-616a250b8b08>:14: FutureWarning: The default value of regex will change from True to False in a future version.\n",
            "  df['Body'] = df['Body'].str.replace(\"[^a-zA-Z0-9]\", \" \")\n"
          ]
        },
        {
          "output_type": "stream",
          "name": "stdout",
          "text": [
            "1/1 [==============================] - 0s 56ms/step\n"
          ]
        },
        {
          "output_type": "stream",
          "name": "stderr",
          "text": [
            "INFO:werkzeug:127.0.0.1 - - [14/May/2023 08:32:36] \"POST / HTTP/1.1\" 200 -\n"
          ]
        },
        {
          "output_type": "stream",
          "name": "stdout",
          "text": [
            "1/1 [==============================] - 0s 28ms/step\n"
          ]
        },
        {
          "output_type": "stream",
          "name": "stderr",
          "text": [
            "INFO:werkzeug:127.0.0.1 - - [14/May/2023 08:32:36] \"POST / HTTP/1.1\" 200 -\n",
            "INFO:werkzeug:127.0.0.1 - - [14/May/2023 08:32:44] \"GET / HTTP/1.1\" 200 -\n",
            "INFO:werkzeug:127.0.0.1 - - [14/May/2023 08:34:57] \"GET / HTTP/1.1\" 200 -\n",
            "<ipython-input-8-616a250b8b08>:9: FutureWarning: The frame.append method is deprecated and will be removed from pandas in a future version. Use pandas.concat instead.\n",
            "  df = df.append(new_row, ignore_index=True)\n",
            "<ipython-input-8-616a250b8b08>:12: FutureWarning: The default value of regex will change from True to False in a future version.\n",
            "  df['Title'] = df['Title'].str.replace(\"[^a-zA-Z0-9]\", \" \")\n",
            "<ipython-input-8-616a250b8b08>:14: FutureWarning: The default value of regex will change from True to False in a future version.\n",
            "  df['Body'] = df['Body'].str.replace(\"[^a-zA-Z0-9]\", \" \")\n"
          ]
        },
        {
          "output_type": "stream",
          "name": "stdout",
          "text": [
            "1/1 [==============================] - 0s 22ms/step\n"
          ]
        },
        {
          "output_type": "stream",
          "name": "stderr",
          "text": [
            "INFO:werkzeug:127.0.0.1 - - [14/May/2023 08:35:41] \"POST / HTTP/1.1\" 200 -\n",
            "INFO:werkzeug:127.0.0.1 - - [14/May/2023 08:36:44] \"GET / HTTP/1.1\" 200 -\n",
            "<ipython-input-8-616a250b8b08>:9: FutureWarning: The frame.append method is deprecated and will be removed from pandas in a future version. Use pandas.concat instead.\n",
            "  df = df.append(new_row, ignore_index=True)\n",
            "<ipython-input-8-616a250b8b08>:12: FutureWarning: The default value of regex will change from True to False in a future version.\n",
            "  df['Title'] = df['Title'].str.replace(\"[^a-zA-Z0-9]\", \" \")\n",
            "<ipython-input-8-616a250b8b08>:14: FutureWarning: The default value of regex will change from True to False in a future version.\n",
            "  df['Body'] = df['Body'].str.replace(\"[^a-zA-Z0-9]\", \" \")\n"
          ]
        },
        {
          "output_type": "stream",
          "name": "stdout",
          "text": [
            "1/1 [==============================] - 0s 31ms/step\n"
          ]
        },
        {
          "output_type": "stream",
          "name": "stderr",
          "text": [
            "INFO:werkzeug:127.0.0.1 - - [14/May/2023 08:36:57] \"POST / HTTP/1.1\" 200 -\n",
            "INFO:werkzeug:127.0.0.1 - - [14/May/2023 08:37:19] \"GET / HTTP/1.1\" 200 -\n",
            "<ipython-input-8-616a250b8b08>:9: FutureWarning: The frame.append method is deprecated and will be removed from pandas in a future version. Use pandas.concat instead.\n",
            "  df = df.append(new_row, ignore_index=True)\n",
            "<ipython-input-8-616a250b8b08>:12: FutureWarning: The default value of regex will change from True to False in a future version.\n",
            "  df['Title'] = df['Title'].str.replace(\"[^a-zA-Z0-9]\", \" \")\n",
            "<ipython-input-8-616a250b8b08>:14: FutureWarning: The default value of regex will change from True to False in a future version.\n",
            "  df['Body'] = df['Body'].str.replace(\"[^a-zA-Z0-9]\", \" \")\n"
          ]
        },
        {
          "output_type": "stream",
          "name": "stdout",
          "text": [
            "1/1 [==============================] - 0s 39ms/step\n"
          ]
        },
        {
          "output_type": "stream",
          "name": "stderr",
          "text": [
            "INFO:werkzeug:127.0.0.1 - - [14/May/2023 08:37:25] \"POST / HTTP/1.1\" 200 -\n",
            "INFO:werkzeug:127.0.0.1 - - [14/May/2023 08:37:33] \"GET / HTTP/1.1\" 200 -\n",
            "INFO:werkzeug:127.0.0.1 - - [14/May/2023 08:39:13] \"GET / HTTP/1.1\" 200 -\n",
            "INFO:werkzeug:127.0.0.1 - - [14/May/2023 08:43:32] \"GET / HTTP/1.1\" 200 -\n"
          ]
        }
      ],
      "source": [
        "@app.route('/', methods=['GET', 'POST'])\n",
        "def index():\n",
        "    if request.method == 'POST':\n",
        "        title = str(request.form['title'])\n",
        "        body = str(request.form['body'])\n",
        "        \n",
        "        df = pd.DataFrame(columns = ['Title','Body'])\n",
        "        new_row= {'Title': title,'Body': body}\n",
        "        df = df.append(new_row, ignore_index=True)\n",
        "\n",
        "        df['Title'] = [str(i).lower() for i in df['Title']]\n",
        "        df['Title'] = df['Title'].str.replace(\"[^a-zA-Z0-9]\", \" \") \n",
        "        df['Body'] = [str(i).lower() for i in df['Body']]\n",
        "        df['Body'] = df['Body'].str.replace(\"[^a-zA-Z0-9]\", \" \") \n",
        "        \n",
        "        df['Title'] = df['Title'].apply(lambda x: lemmatize_sentence(x))\n",
        "        df['Body'] = df['Body'].apply(lambda x: lemmatize_sentence(x))\n",
        "\n",
        "        df['Title'] = [remove_stopwords(r) for r in df['Title']]\n",
        "        df['Body'] = [remove_stopwords(r) for r in df['Body']]\n",
        "\n",
        "        t = title_vectorizer.fit_transform(df['Title'])\n",
        "        feature_names = title_vectorizer.get_feature_names_out()\n",
        "        vecdf = pd.DataFrame(t.toarray(), columns = feature_names)\n",
        "        df = df.merge(vecdf,how = 'outer',left_index=True,right_index=True)        \n",
        "\n",
        "        t = body_vectorizer.fit_transform(df['Body'])\n",
        "        feature_names = body_vectorizer.get_feature_names_out()\n",
        "        vecdf = pd.DataFrame(t.toarray(), columns = feature_names)\n",
        "        df = df.merge(vecdf,how = 'outer',left_index=True,right_index=True)\n",
        "        \n",
        "        del df['Title']\n",
        "        del df['Body']\n",
        "\n",
        "        colsdf = pd.read_csv('/content/columnsdf.csv')\n",
        "        colsdf.loc[0] = 0\n",
        "        \n",
        "        merged_df = colsdf.copy()\n",
        "        for column in colsdf.columns:\n",
        "            if column in df.columns:\n",
        "                merged_df[column] = df[column]\n",
        "        merged_df\n",
        "\n",
        "        prediction = model.predict(merged_df.values)\n",
        "        a = ( 1 if prediction[0][0] > 0.5 else 0)\n",
        "        \n",
        "        return render_template('result.html', prediction=a)\n",
        "    return render_template('index.html')\n",
        "\n",
        "if __name__ == '__main__':\n",
        "    app.run()"
      ]
    }
  ],
  "metadata": {
    "colab": {
      "provenance": []
    },
    "kernelspec": {
      "display_name": "Python 3",
      "name": "python3"
    },
    "language_info": {
      "name": "python"
    }
  },
  "nbformat": 4,
  "nbformat_minor": 0
}